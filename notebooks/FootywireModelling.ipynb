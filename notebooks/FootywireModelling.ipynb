{
 "cells": [
  {
   "cell_type": "code",
   "execution_count": 1,
   "id": "3df40362-9669-4a49-8169-cb90671c5a4f",
   "metadata": {},
   "outputs": [],
   "source": [
    "import pandas as pd\n",
    "import numpy as np\n",
    "import matplotlib.pyplot as plt\n",
    "import seaborn as sns"
   ]
  },
  {
   "cell_type": "code",
   "execution_count": 2,
   "id": "a71d8de7-e7f5-41c2-9340-02caa043941f",
   "metadata": {},
   "outputs": [],
   "source": [
    "data = pd.read_csv('footywire_data.csv')"
   ]
  },
  {
   "cell_type": "code",
   "execution_count": 3,
   "id": "c5fdea17-daee-44b8-a870-30ab5f475936",
   "metadata": {},
   "outputs": [],
   "source": [
    "data = data[~data['Season'].isin([2015,2016,2017,2018,2019,2020, 2021])]"
   ]
  },
  {
   "cell_type": "code",
   "execution_count": 4,
   "id": "5c3811ba-c970-4cad-9c66-956ed33903d0",
   "metadata": {},
   "outputs": [
    {
     "data": {
      "text/html": [
       "<div>\n",
       "<style scoped>\n",
       "    .dataframe tbody tr th:only-of-type {\n",
       "        vertical-align: middle;\n",
       "    }\n",
       "\n",
       "    .dataframe tbody tr th {\n",
       "        vertical-align: top;\n",
       "    }\n",
       "\n",
       "    .dataframe thead th {\n",
       "        text-align: right;\n",
       "    }\n",
       "</style>\n",
       "<table border=\"1\" class=\"dataframe\">\n",
       "  <thead>\n",
       "    <tr style=\"text-align: right;\">\n",
       "      <th></th>\n",
       "      <th>Match_id</th>\n",
       "      <th>Season</th>\n",
       "      <th>Home.Team</th>\n",
       "      <th>Away.Team</th>\n",
       "      <th>Home.Points</th>\n",
       "      <th>Away.Points</th>\n",
       "      <th>HomeNetRating</th>\n",
       "      <th>AwayNetRating</th>\n",
       "      <th>HomeNetForm</th>\n",
       "      <th>AwayNetForm</th>\n",
       "      <th>HomeLast5MatchupWinRate</th>\n",
       "      <th>AwayLast5MatchupWinRate</th>\n",
       "      <th>HomeVenueWinRate</th>\n",
       "      <th>AwayVenueWinRate</th>\n",
       "      <th>home_days_since_net</th>\n",
       "      <th>away_days_since_net</th>\n",
       "      <th>NetHomeElo</th>\n",
       "      <th>NetAwayElo</th>\n",
       "      <th>HomeWin</th>\n",
       "      <th>AwayWin</th>\n",
       "    </tr>\n",
       "  </thead>\n",
       "  <tbody>\n",
       "    <tr>\n",
       "      <th>1393</th>\n",
       "      <td>10544</td>\n",
       "      <td>2022</td>\n",
       "      <td>Melbourne</td>\n",
       "      <td>Western Bulldogs</td>\n",
       "      <td>97</td>\n",
       "      <td>71</td>\n",
       "      <td>0.508179</td>\n",
       "      <td>0.491821</td>\n",
       "      <td>0.319444</td>\n",
       "      <td>-0.319444</td>\n",
       "      <td>0.8</td>\n",
       "      <td>0.2</td>\n",
       "      <td>0.4</td>\n",
       "      <td>0.4</td>\n",
       "      <td>0.510638</td>\n",
       "      <td>0.489362</td>\n",
       "      <td>0.621823</td>\n",
       "      <td>0.378177</td>\n",
       "      <td>1</td>\n",
       "      <td>0</td>\n",
       "    </tr>\n",
       "    <tr>\n",
       "      <th>1394</th>\n",
       "      <td>10545</td>\n",
       "      <td>2022</td>\n",
       "      <td>Carlton</td>\n",
       "      <td>Richmond</td>\n",
       "      <td>101</td>\n",
       "      <td>76</td>\n",
       "      <td>0.423812</td>\n",
       "      <td>0.576188</td>\n",
       "      <td>0.177778</td>\n",
       "      <td>-0.177778</td>\n",
       "      <td>0.6</td>\n",
       "      <td>0.2</td>\n",
       "      <td>0.4</td>\n",
       "      <td>0.2</td>\n",
       "      <td>0.510638</td>\n",
       "      <td>0.489362</td>\n",
       "      <td>0.438482</td>\n",
       "      <td>0.561518</td>\n",
       "      <td>1</td>\n",
       "      <td>0</td>\n",
       "    </tr>\n",
       "    <tr>\n",
       "      <th>1395</th>\n",
       "      <td>10546</td>\n",
       "      <td>2022</td>\n",
       "      <td>St Kilda</td>\n",
       "      <td>Collingwood</td>\n",
       "      <td>85</td>\n",
       "      <td>102</td>\n",
       "      <td>0.486721</td>\n",
       "      <td>0.513279</td>\n",
       "      <td>0.333333</td>\n",
       "      <td>-0.333333</td>\n",
       "      <td>0.4</td>\n",
       "      <td>0.6</td>\n",
       "      <td>0.0</td>\n",
       "      <td>0.8</td>\n",
       "      <td>0.510638</td>\n",
       "      <td>0.489362</td>\n",
       "      <td>0.658201</td>\n",
       "      <td>0.341799</td>\n",
       "      <td>0</td>\n",
       "      <td>1</td>\n",
       "    </tr>\n",
       "    <tr>\n",
       "      <th>1396</th>\n",
       "      <td>10547</td>\n",
       "      <td>2022</td>\n",
       "      <td>Geelong</td>\n",
       "      <td>Essendon</td>\n",
       "      <td>138</td>\n",
       "      <td>72</td>\n",
       "      <td>0.465736</td>\n",
       "      <td>0.534264</td>\n",
       "      <td>0.000000</td>\n",
       "      <td>0.000000</td>\n",
       "      <td>1.0</td>\n",
       "      <td>0.0</td>\n",
       "      <td>0.6</td>\n",
       "      <td>0.2</td>\n",
       "      <td>0.510638</td>\n",
       "      <td>0.489362</td>\n",
       "      <td>0.596315</td>\n",
       "      <td>0.403685</td>\n",
       "      <td>1</td>\n",
       "      <td>0</td>\n",
       "    </tr>\n",
       "    <tr>\n",
       "      <th>1397</th>\n",
       "      <td>10548</td>\n",
       "      <td>2022</td>\n",
       "      <td>GWS</td>\n",
       "      <td>Sydney</td>\n",
       "      <td>92</td>\n",
       "      <td>112</td>\n",
       "      <td>0.320350</td>\n",
       "      <td>0.679650</td>\n",
       "      <td>-0.222222</td>\n",
       "      <td>0.222222</td>\n",
       "      <td>0.0</td>\n",
       "      <td>1.0</td>\n",
       "      <td>1.0</td>\n",
       "      <td>0.4</td>\n",
       "      <td>0.510638</td>\n",
       "      <td>0.489362</td>\n",
       "      <td>0.486021</td>\n",
       "      <td>0.513979</td>\n",
       "      <td>0</td>\n",
       "      <td>1</td>\n",
       "    </tr>\n",
       "    <tr>\n",
       "      <th>...</th>\n",
       "      <td>...</td>\n",
       "      <td>...</td>\n",
       "      <td>...</td>\n",
       "      <td>...</td>\n",
       "      <td>...</td>\n",
       "      <td>...</td>\n",
       "      <td>...</td>\n",
       "      <td>...</td>\n",
       "      <td>...</td>\n",
       "      <td>...</td>\n",
       "      <td>...</td>\n",
       "      <td>...</td>\n",
       "      <td>...</td>\n",
       "      <td>...</td>\n",
       "      <td>...</td>\n",
       "      <td>...</td>\n",
       "      <td>...</td>\n",
       "      <td>...</td>\n",
       "      <td>...</td>\n",
       "      <td>...</td>\n",
       "    </tr>\n",
       "    <tr>\n",
       "      <th>2195</th>\n",
       "      <td>11349</td>\n",
       "      <td>2025</td>\n",
       "      <td>GWS</td>\n",
       "      <td>Sydney</td>\n",
       "      <td>102</td>\n",
       "      <td>58</td>\n",
       "      <td>0.536344</td>\n",
       "      <td>0.463656</td>\n",
       "      <td>0.111111</td>\n",
       "      <td>-0.111111</td>\n",
       "      <td>0.0</td>\n",
       "      <td>1.0</td>\n",
       "      <td>0.8</td>\n",
       "      <td>0.8</td>\n",
       "      <td>0.553191</td>\n",
       "      <td>0.446809</td>\n",
       "      <td>0.561330</td>\n",
       "      <td>0.438670</td>\n",
       "      <td>1</td>\n",
       "      <td>0</td>\n",
       "    </tr>\n",
       "    <tr>\n",
       "      <th>2196</th>\n",
       "      <td>11355</td>\n",
       "      <td>2025</td>\n",
       "      <td>Gold Coast</td>\n",
       "      <td>Brisbane</td>\n",
       "      <td>130</td>\n",
       "      <td>64</td>\n",
       "      <td>0.378855</td>\n",
       "      <td>0.621145</td>\n",
       "      <td>-0.111111</td>\n",
       "      <td>0.111111</td>\n",
       "      <td>0.2</td>\n",
       "      <td>0.8</td>\n",
       "      <td>0.8</td>\n",
       "      <td>0.4</td>\n",
       "      <td>0.468085</td>\n",
       "      <td>0.531915</td>\n",
       "      <td>0.368080</td>\n",
       "      <td>0.631920</td>\n",
       "      <td>1</td>\n",
       "      <td>0</td>\n",
       "    </tr>\n",
       "    <tr>\n",
       "      <th>2197</th>\n",
       "      <td>11357</td>\n",
       "      <td>2025</td>\n",
       "      <td>Fremantle</td>\n",
       "      <td>West Coast</td>\n",
       "      <td>126</td>\n",
       "      <td>77</td>\n",
       "      <td>0.544177</td>\n",
       "      <td>0.455823</td>\n",
       "      <td>0.777778</td>\n",
       "      <td>-0.777778</td>\n",
       "      <td>0.8</td>\n",
       "      <td>0.2</td>\n",
       "      <td>1.0</td>\n",
       "      <td>0.2</td>\n",
       "      <td>0.489362</td>\n",
       "      <td>0.510638</td>\n",
       "      <td>0.857190</td>\n",
       "      <td>0.142810</td>\n",
       "      <td>1</td>\n",
       "      <td>0</td>\n",
       "    </tr>\n",
       "    <tr>\n",
       "      <th>2198</th>\n",
       "      <td>11350</td>\n",
       "      <td>2025</td>\n",
       "      <td>North Melbourne</td>\n",
       "      <td>Geelong</td>\n",
       "      <td>49</td>\n",
       "      <td>150</td>\n",
       "      <td>0.215680</td>\n",
       "      <td>0.784320</td>\n",
       "      <td>-0.444444</td>\n",
       "      <td>0.444444</td>\n",
       "      <td>0.0</td>\n",
       "      <td>1.0</td>\n",
       "      <td>0.0</td>\n",
       "      <td>0.4</td>\n",
       "      <td>0.531915</td>\n",
       "      <td>0.468085</td>\n",
       "      <td>0.247955</td>\n",
       "      <td>0.752045</td>\n",
       "      <td>0</td>\n",
       "      <td>1</td>\n",
       "    </tr>\n",
       "    <tr>\n",
       "      <th>2199</th>\n",
       "      <td>11356</td>\n",
       "      <td>2025</td>\n",
       "      <td>Adelaide</td>\n",
       "      <td>Port Adelaide</td>\n",
       "      <td>133</td>\n",
       "      <td>35</td>\n",
       "      <td>0.490951</td>\n",
       "      <td>0.509049</td>\n",
       "      <td>0.333333</td>\n",
       "      <td>-0.333333</td>\n",
       "      <td>0.8</td>\n",
       "      <td>0.2</td>\n",
       "      <td>1.0</td>\n",
       "      <td>0.6</td>\n",
       "      <td>0.489362</td>\n",
       "      <td>0.510638</td>\n",
       "      <td>0.688619</td>\n",
       "      <td>0.311381</td>\n",
       "      <td>1</td>\n",
       "      <td>0</td>\n",
       "    </tr>\n",
       "  </tbody>\n",
       "</table>\n",
       "<p>807 rows × 20 columns</p>\n",
       "</div>"
      ],
      "text/plain": [
       "      Match_id  Season        Home.Team         Away.Team  Home.Points  \\\n",
       "1393     10544    2022        Melbourne  Western Bulldogs           97   \n",
       "1394     10545    2022          Carlton          Richmond          101   \n",
       "1395     10546    2022         St Kilda       Collingwood           85   \n",
       "1396     10547    2022          Geelong          Essendon          138   \n",
       "1397     10548    2022              GWS            Sydney           92   \n",
       "...        ...     ...              ...               ...          ...   \n",
       "2195     11349    2025              GWS            Sydney          102   \n",
       "2196     11355    2025       Gold Coast          Brisbane          130   \n",
       "2197     11357    2025        Fremantle        West Coast          126   \n",
       "2198     11350    2025  North Melbourne           Geelong           49   \n",
       "2199     11356    2025         Adelaide     Port Adelaide          133   \n",
       "\n",
       "      Away.Points  HomeNetRating  AwayNetRating  HomeNetForm  AwayNetForm  \\\n",
       "1393           71       0.508179       0.491821     0.319444    -0.319444   \n",
       "1394           76       0.423812       0.576188     0.177778    -0.177778   \n",
       "1395          102       0.486721       0.513279     0.333333    -0.333333   \n",
       "1396           72       0.465736       0.534264     0.000000     0.000000   \n",
       "1397          112       0.320350       0.679650    -0.222222     0.222222   \n",
       "...           ...            ...            ...          ...          ...   \n",
       "2195           58       0.536344       0.463656     0.111111    -0.111111   \n",
       "2196           64       0.378855       0.621145    -0.111111     0.111111   \n",
       "2197           77       0.544177       0.455823     0.777778    -0.777778   \n",
       "2198          150       0.215680       0.784320    -0.444444     0.444444   \n",
       "2199           35       0.490951       0.509049     0.333333    -0.333333   \n",
       "\n",
       "      HomeLast5MatchupWinRate  AwayLast5MatchupWinRate  HomeVenueWinRate  \\\n",
       "1393                      0.8                      0.2               0.4   \n",
       "1394                      0.6                      0.2               0.4   \n",
       "1395                      0.4                      0.6               0.0   \n",
       "1396                      1.0                      0.0               0.6   \n",
       "1397                      0.0                      1.0               1.0   \n",
       "...                       ...                      ...               ...   \n",
       "2195                      0.0                      1.0               0.8   \n",
       "2196                      0.2                      0.8               0.8   \n",
       "2197                      0.8                      0.2               1.0   \n",
       "2198                      0.0                      1.0               0.0   \n",
       "2199                      0.8                      0.2               1.0   \n",
       "\n",
       "      AwayVenueWinRate  home_days_since_net  away_days_since_net  NetHomeElo  \\\n",
       "1393               0.4             0.510638             0.489362    0.621823   \n",
       "1394               0.2             0.510638             0.489362    0.438482   \n",
       "1395               0.8             0.510638             0.489362    0.658201   \n",
       "1396               0.2             0.510638             0.489362    0.596315   \n",
       "1397               0.4             0.510638             0.489362    0.486021   \n",
       "...                ...                  ...                  ...         ...   \n",
       "2195               0.8             0.553191             0.446809    0.561330   \n",
       "2196               0.4             0.468085             0.531915    0.368080   \n",
       "2197               0.2             0.489362             0.510638    0.857190   \n",
       "2198               0.4             0.531915             0.468085    0.247955   \n",
       "2199               0.6             0.489362             0.510638    0.688619   \n",
       "\n",
       "      NetAwayElo  HomeWin  AwayWin  \n",
       "1393    0.378177        1        0  \n",
       "1394    0.561518        1        0  \n",
       "1395    0.341799        0        1  \n",
       "1396    0.403685        1        0  \n",
       "1397    0.513979        0        1  \n",
       "...          ...      ...      ...  \n",
       "2195    0.438670        1        0  \n",
       "2196    0.631920        1        0  \n",
       "2197    0.142810        1        0  \n",
       "2198    0.752045        0        1  \n",
       "2199    0.311381        1        0  \n",
       "\n",
       "[807 rows x 20 columns]"
      ]
     },
     "execution_count": 4,
     "metadata": {},
     "output_type": "execute_result"
    }
   ],
   "source": [
    "data"
   ]
  },
  {
   "cell_type": "code",
   "execution_count": 5,
   "id": "fe6bfaa0-18c7-4cd8-bc22-a4660c938c8f",
   "metadata": {},
   "outputs": [],
   "source": [
    "from sklearn.model_selection import train_test_split\n",
    "from sklearn.metrics import accuracy_score, confusion_matrix\n",
    "from sklearn.model_selection import cross_val_score\n",
    "\n",
    "X = data[['AwayNetForm', 'AwayNetRating', 'AwayLast5MatchupWinRate', 'AwayVenueWinRate', 'away_days_since_net', 'NetAwayElo']]\n",
    "y = data['AwayWin']\n",
    "\n",
    "X_train, X_test, y_train, y_test = train_test_split(\n",
    "    X, y, test_size=0.2, stratify=y, random_state=42\n",
    ")\n"
   ]
  },
  {
   "cell_type": "code",
   "execution_count": 18,
   "id": "cf2eecdb-de6c-4628-bb98-f5ab0cd87603",
   "metadata": {},
   "outputs": [
    {
     "name": "stdout",
     "output_type": "stream",
     "text": [
      "Accuracy: 0.7407\n",
      "              precision    recall  f1-score   support\n",
      "\n",
      "           0       0.75      0.84      0.79        95\n",
      "           1       0.73      0.60      0.66        67\n",
      "\n",
      "    accuracy                           0.74       162\n",
      "   macro avg       0.74      0.72      0.72       162\n",
      "weighted avg       0.74      0.74      0.74       162\n",
      "\n"
     ]
    }
   ],
   "source": [
    "from sklearn.ensemble import RandomForestClassifier\n",
    "from sklearn.metrics import classification_report\n",
    "\n",
    "# Train a classifier instead of regressor\n",
    "model = RandomForestClassifier(n_estimators=100, random_state=42)\n",
    "model.fit(X_train, y_train)\n",
    "\n",
    "# Predict and evaluate\n",
    "y_pred = model.predict(X_test)\n",
    "\n",
    "# Metrics\n",
    "accuracy = accuracy_score(y_test, y_pred)\n",
    "print(f\"Accuracy: {accuracy:.4f}\")\n",
    "print(classification_report(y_test, y_pred))"
   ]
  },
  {
   "cell_type": "code",
   "execution_count": 19,
   "id": "34d6f62d-73e7-4704-9a47-43f0a0ad60f9",
   "metadata": {},
   "outputs": [
    {
     "name": "stdout",
     "output_type": "stream",
     "text": [
      "Cross-validated scores: [0.68518519 0.77160494 0.72670807 0.70186335 0.65838509]\n",
      "Mean accuracy: 0.7087493290391842\n"
     ]
    }
   ],
   "source": [
    "scores = cross_val_score(model, X, y, cv=5, scoring='accuracy')\n",
    "\n",
    "# Output results\n",
    "print(\"Cross-validated scores:\", scores)\n",
    "print(\"Mean accuracy:\", np.mean(scores))"
   ]
  },
  {
   "cell_type": "code",
   "execution_count": 7,
   "id": "0c1e4566-a6cf-444a-b151-9a8c4cf3507c",
   "metadata": {},
   "outputs": [],
   "source": [
    "from sklearn.model_selection import GridSearchCV\n",
    "\n",
    "param_grid = {\n",
    "    'n_estimators': [100, 200, 300],\n",
    "    'max_depth': [None, 10, 20, 30],\n",
    "    'min_samples_split': [2, 5, 10],\n",
    "    'min_samples_leaf': [1, 2, 4],\n",
    "    'max_features': ['sqrt', 'log2']\n",
    "}"
   ]
  },
  {
   "cell_type": "code",
   "execution_count": 8,
   "id": "d360eebe-8427-4465-bfcf-876a17e003fb",
   "metadata": {},
   "outputs": [],
   "source": [
    "clf = RandomForestClassifier(random_state=42)\n",
    "\n",
    "grid_search = GridSearchCV(\n",
    "    estimator=clf,\n",
    "    param_grid=param_grid,\n",
    "    cv=5,  # 5-fold cross-validation\n",
    "    n_jobs=-1,  # Use all CPU cores\n",
    "    verbose=2,\n",
    "    scoring='accuracy'  # Or 'f1', 'roc_auc' depending on your goal\n",
    ")"
   ]
  },
  {
   "cell_type": "code",
   "execution_count": 9,
   "id": "a52855f8-acbe-4f92-9f23-4317bd80bf39",
   "metadata": {},
   "outputs": [
    {
     "name": "stdout",
     "output_type": "stream",
     "text": [
      "Fitting 5 folds for each of 216 candidates, totalling 1080 fits\n",
      "Best Parameters: {'max_depth': 10, 'max_features': 'sqrt', 'min_samples_leaf': 4, 'min_samples_split': 10, 'n_estimators': 300}\n"
     ]
    }
   ],
   "source": [
    "grid_search.fit(X_train, y_train)\n",
    "print(\"Best Parameters:\", grid_search.best_params_)"
   ]
  },
  {
   "cell_type": "code",
   "execution_count": 10,
   "id": "772c36c3-397f-495c-9134-c1f5f3f26067",
   "metadata": {},
   "outputs": [
    {
     "name": "stdout",
     "output_type": "stream",
     "text": [
      "Tuned Model Accuracy: 0.7407407407407407\n",
      "              precision    recall  f1-score   support\n",
      "\n",
      "           0       0.75      0.83      0.79        95\n",
      "           1       0.72      0.61      0.66        67\n",
      "\n",
      "    accuracy                           0.74       162\n",
      "   macro avg       0.74      0.72      0.73       162\n",
      "weighted avg       0.74      0.74      0.74       162\n",
      "\n"
     ]
    }
   ],
   "source": [
    "best_model = grid_search.best_estimator_\n",
    "y_pred = best_model.predict(X_test)\n",
    "\n",
    "print(\"Tuned Model Accuracy:\", accuracy_score(y_test, y_pred))\n",
    "print(classification_report(y_test, y_pred))"
   ]
  },
  {
   "cell_type": "code",
   "execution_count": 30,
   "id": "26643a98-5985-43e0-a944-0a0a2ee4980d",
   "metadata": {},
   "outputs": [
    {
     "name": "stdout",
     "output_type": "stream",
     "text": [
      "CV Accuracy: 0.7310 ± 0.0445\n"
     ]
    }
   ],
   "source": [
    "scores = cross_val_score(best_model, X, y, cv=5, scoring='accuracy')\n",
    "print(f\"CV Accuracy: {scores.mean():.4f} ± {scores.std():.4f}\")"
   ]
  },
  {
   "cell_type": "code",
   "execution_count": 12,
   "id": "e7829db3-615f-434b-a82a-eb3e320810c1",
   "metadata": {},
   "outputs": [
    {
     "data": {
      "text/plain": [
       "<Axes: >"
      ]
     },
     "execution_count": 12,
     "metadata": {},
     "output_type": "execute_result"
    },
    {
     "data": {
      "image/png": "[encoded data removed]",
      "text/plain": [
       "<Figure size 640x480 with 1 Axes>"
      ]
     },
     "metadata": {},
     "output_type": "display_data"
    }
   ],
   "source": [
    "# For RandomForest\n",
    "best_model.feature_importances_\n",
    "\n",
    "# Get feature names with importance\n",
    "import pandas as pd\n",
    "feature_importance = pd.Series(best_model.feature_importances_, index=X.columns)\n",
    "feature_importance.sort_values(ascending=False).plot(kind='bar')\n"
   ]
  },
  {
   "cell_type": "code",
   "execution_count": 13,
   "id": "b3f55176-57ab-45d0-abce-91d15f76b4fc",
   "metadata": {},
   "outputs": [
    {
     "name": "stderr",
     "output_type": "stream",
     "text": [
      "C:\\Users\\maxma\\anaconda3\\Lib\\site-packages\\xgboost\\training.py:183: UserWarning: [11:54:24] WARNING: C:\\actions-runner\\_work\\xgboost\\xgboost\\src\\learner.cc:738: \n",
      "Parameters: { \"use_label_encoder\" } are not used.\n",
      "\n",
      "  bst.update(dtrain, iteration=i, fobj=obj)\n"
     ]
    },
    {
     "name": "stdout",
     "output_type": "stream",
     "text": [
      "XGBoost Accuracy: 0.6419753086419753\n",
      "              precision    recall  f1-score   support\n",
      "\n",
      "           0       0.68      0.73      0.70        95\n",
      "           1       0.57      0.52      0.55        67\n",
      "\n",
      "    accuracy                           0.64       162\n",
      "   macro avg       0.63      0.62      0.63       162\n",
      "weighted avg       0.64      0.64      0.64       162\n",
      "\n"
     ]
    }
   ],
   "source": [
    "import xgboost as xgb\n",
    "model = xgb.XGBClassifier(use_label_encoder=False, eval_metric='logloss', random_state=42)\n",
    "model.fit(X_train, y_train)\n",
    "y_pred = model.predict(X_test)\n",
    "\n",
    "# Evaluate\n",
    "print(\"XGBoost Accuracy:\", accuracy_score(y_test, y_pred))\n",
    "print(classification_report(y_test, y_pred))\n"
   ]
  },
  {
   "cell_type": "code",
   "execution_count": 14,
   "id": "d3d143c7-3690-4708-beb9-3229b321da20",
   "metadata": {},
   "outputs": [
    {
     "name": "stdout",
     "output_type": "stream",
     "text": [
      "Fitting 5 folds for each of 36 candidates, totalling 180 fits\n",
      "Tuned XGBoost Accuracy: 0.7037037037037037\n",
      "              precision    recall  f1-score   support\n",
      "\n",
      "           0       0.73      0.79      0.76        95\n",
      "           1       0.66      0.58      0.62        67\n",
      "\n",
      "    accuracy                           0.70       162\n",
      "   macro avg       0.69      0.69      0.69       162\n",
      "weighted avg       0.70      0.70      0.70       162\n",
      "\n"
     ]
    },
    {
     "name": "stderr",
     "output_type": "stream",
     "text": [
      "C:\\Users\\maxma\\anaconda3\\Lib\\site-packages\\xgboost\\training.py:183: UserWarning: [11:54:28] WARNING: C:\\actions-runner\\_work\\xgboost\\xgboost\\src\\learner.cc:738: \n",
      "Parameters: { \"use_label_encoder\" } are not used.\n",
      "\n",
      "  bst.update(dtrain, iteration=i, fobj=obj)\n"
     ]
    }
   ],
   "source": [
    "param_grid = {\n",
    "    'n_estimators': [100, 200],\n",
    "    'max_depth': [3, 5, 7],\n",
    "    'learning_rate': [0.05, 0.1, 0.2],\n",
    "    'subsample': [0.8, 1.0]\n",
    "}\n",
    "\n",
    "grid_search = GridSearchCV(\n",
    "    estimator=xgb.XGBClassifier(use_label_encoder=False, eval_metric='logloss', random_state=42),\n",
    "    param_grid=param_grid,\n",
    "    cv=5,\n",
    "    n_jobs=-1,\n",
    "    verbose=1,\n",
    "    scoring='accuracy'\n",
    ")\n",
    "\n",
    "grid_search.fit(X_train, y_train)\n",
    "\n",
    "# Best model and evaluation\n",
    "best_xgb = grid_search.best_estimator_\n",
    "y_pred_best = best_xgb.predict(X_test)\n",
    "\n",
    "print(\"Tuned XGBoost Accuracy:\", accuracy_score(y_test, y_pred_best))\n",
    "print(classification_report(y_test, y_pred_best))"
   ]
  },
  {
   "cell_type": "code",
   "execution_count": 28,
   "id": "34de405c-dc49-4204-9f31-3a3160a7fec6",
   "metadata": {},
   "outputs": [
    {
     "name": "stdout",
     "output_type": "stream",
     "text": [
      "Tuned Model Accuracy: 0.7407407407407407\n",
      "              precision    recall  f1-score   support\n",
      "\n",
      "           0       0.75      0.83      0.79        95\n",
      "           1       0.72      0.61      0.66        67\n",
      "\n",
      "    accuracy                           0.74       162\n",
      "   macro avg       0.74      0.72      0.73       162\n",
      "weighted avg       0.74      0.74      0.74       162\n",
      "\n"
     ]
    }
   ],
   "source": [
    "# Best parameters from tuning\n",
    "best_params = {\n",
    "    'max_depth': 10,\n",
    "    'max_features': 'sqrt',\n",
    "    'min_samples_leaf': 4,\n",
    "    'min_samples_split': 10,\n",
    "    'n_estimators': 300,\n",
    "    'random_state': 42  # for reproducibility\n",
    "}\n",
    "\n",
    "\n",
    "best_rf_model = RandomForestClassifier(**best_params)\n",
    "y_pred = best_model.predict(X_test)\n",
    "\n",
    "print(\"Tuned Model Accuracy:\", accuracy_score(y_test, y_pred))\n",
    "print(classification_report(y_test, y_pred))"
   ]
  },
  {
   "cell_type": "code",
   "execution_count": 29,
   "id": "33b86e5e-2777-42d4-acc7-1eadf352ddd7",
   "metadata": {},
   "outputs": [
    {
     "name": "stdout",
     "output_type": "stream",
     "text": [
      "Ensemble Accuracy: 0.7222222222222222\n"
     ]
    },
    {
     "name": "stderr",
     "output_type": "stream",
     "text": [
      "C:\\Users\\maxma\\anaconda3\\Lib\\site-packages\\xgboost\\training.py:183: UserWarning: [14:26:54] WARNING: C:\\actions-runner\\_work\\xgboost\\xgboost\\src\\learner.cc:738: \n",
      "Parameters: { \"use_label_encoder\" } are not used.\n",
      "\n",
      "  bst.update(dtrain, iteration=i, fobj=obj)\n"
     ]
    }
   ],
   "source": [
    "from sklearn.ensemble import VotingClassifier\n",
    "\n",
    "ensemble = VotingClassifier(\n",
    "    estimators=[\n",
    "        ('rf', best_rf_model),\n",
    "        ('xgb', grid_search.best_estimator_)\n",
    "    ],\n",
    "    voting='soft'\n",
    ")\n",
    "\n",
    "ensemble.fit(X_train, y_train)\n",
    "y_pred_ensemble = ensemble.predict(X_test)\n",
    "\n",
    "print(\"Ensemble Accuracy:\", accuracy_score(y_test, y_pred_ensemble))"
   ]
  },
  {
   "cell_type": "code",
   "execution_count": 20,
   "id": "bff741c4-66fb-4e95-81c0-f82a13bf0915",
   "metadata": {},
   "outputs": [
    {
     "name": "stderr",
     "output_type": "stream",
     "text": [
      "C:\\Users\\maxma\\anaconda3\\Lib\\site-packages\\xgboost\\training.py:183: UserWarning: [12:07:31] WARNING: C:\\actions-runner\\_work\\xgboost\\xgboost\\src\\learner.cc:738: \n",
      "Parameters: { \"use_label_encoder\" } are not used.\n",
      "\n",
      "  bst.update(dtrain, iteration=i, fobj=obj)\n",
      "C:\\Users\\maxma\\anaconda3\\Lib\\site-packages\\xgboost\\training.py:183: UserWarning: [12:07:32] WARNING: C:\\actions-runner\\_work\\xgboost\\xgboost\\src\\learner.cc:738: \n",
      "Parameters: { \"use_label_encoder\" } are not used.\n",
      "\n",
      "  bst.update(dtrain, iteration=i, fobj=obj)\n",
      "C:\\Users\\maxma\\anaconda3\\Lib\\site-packages\\xgboost\\training.py:183: UserWarning: [12:07:33] WARNING: C:\\actions-runner\\_work\\xgboost\\xgboost\\src\\learner.cc:738: \n",
      "Parameters: { \"use_label_encoder\" } are not used.\n",
      "\n",
      "  bst.update(dtrain, iteration=i, fobj=obj)\n",
      "C:\\Users\\maxma\\anaconda3\\Lib\\site-packages\\xgboost\\training.py:183: UserWarning: [12:07:34] WARNING: C:\\actions-runner\\_work\\xgboost\\xgboost\\src\\learner.cc:738: \n",
      "Parameters: { \"use_label_encoder\" } are not used.\n",
      "\n",
      "  bst.update(dtrain, iteration=i, fobj=obj)\n"
     ]
    },
    {
     "name": "stdout",
     "output_type": "stream",
     "text": [
      "Cross-validated scores: [0.74691358 0.7654321  0.75776398 0.70807453 0.62732919]\n",
      "Mean accuracy: 0.7211026761751398\n"
     ]
    },
    {
     "name": "stderr",
     "output_type": "stream",
     "text": [
      "C:\\Users\\maxma\\anaconda3\\Lib\\site-packages\\xgboost\\training.py:183: UserWarning: [12:07:35] WARNING: C:\\actions-runner\\_work\\xgboost\\xgboost\\src\\learner.cc:738: \n",
      "Parameters: { \"use_label_encoder\" } are not used.\n",
      "\n",
      "  bst.update(dtrain, iteration=i, fobj=obj)\n"
     ]
    }
   ],
   "source": [
    "scores = cross_val_score(ensemble, X, y, cv=5, scoring='accuracy')\n",
    "\n",
    "# Output results\n",
    "print(\"Cross-validated scores:\", scores)\n",
    "print(\"Mean accuracy:\", np.mean(scores))"
   ]
  },
  {
   "cell_type": "code",
   "execution_count": 26,
   "id": "614f247d-d708-411a-98c6-90a129e18011",
   "metadata": {},
   "outputs": [
    {
     "ename": "IndentationError",
     "evalue": "unindent does not match any outer indentation level (FootywireProprocessing.ipynb, line 380)",
     "output_type": "error",
     "traceback": [
      "Traceback \u001b[1;36m(most recent call last)\u001b[0m:\n",
      "\u001b[0m  File \u001b[0;32m~\\anaconda3\\Lib\\site-packages\\IPython\\core\\interactiveshell.py:3577\u001b[0m in \u001b[0;35mrun_code\u001b[0m\n    exec(code_obj, self.user_global_ns, self.user_ns)\u001b[0m\n",
      "\u001b[0m  Cell \u001b[0;32mIn[26], line 1\u001b[0m\n    from ipynb.fs.full.FootywireProprocessing.ipynb import add_all_features\u001b[0m\n",
      "\u001b[0m  File \u001b[0;32m<frozen importlib._bootstrap>:1360\u001b[0m in \u001b[0;35m_find_and_load\u001b[0m\n",
      "\u001b[0m  File \u001b[0;32m<frozen importlib._bootstrap>:1331\u001b[0m in \u001b[0;35m_find_and_load_unlocked\u001b[0m\n",
      "\u001b[0m  File \u001b[0;32m<frozen importlib._bootstrap>:935\u001b[0m in \u001b[0;35m_load_unlocked\u001b[0m\n",
      "\u001b[0m  File \u001b[0;32m<frozen importlib._bootstrap_external>:1022\u001b[0m in \u001b[0;35mexec_module\u001b[0m\n",
      "\u001b[1;36m  File \u001b[1;32m~\\anaconda3\\Lib\\site-packages\\ipynb\\fs\\full\\__init__.py:43\u001b[1;36m in \u001b[1;35mget_code\u001b[1;36m\n\u001b[1;33m    return self.source_to_code(code_from_ipynb(nb), self.path)\u001b[1;36m\n",
      "\u001b[1;36m  File \u001b[1;32m~\\Desktop\\Data Science\\AFL Project\\FootywireProprocessing.ipynb:380\u001b[1;36m\u001b[0m\n\u001b[1;33m    \"\\n\",\u001b[0m\n\u001b[1;37m         \n^\u001b[0m\n\u001b[1;31mIndentationError\u001b[0m\u001b[1;31m:\u001b[0m unindent does not match any outer indentation level\n"
     ]
    }
   ],
   "source": [
    "from ipynb.fs.full.FootywireProprocessing.ipynb import add_all_features"
   ]
  },
  {
   "cell_type": "code",
   "execution_count": 21,
   "id": "8fb4fce4-e7a4-4d16-b42e-f94f7bf77cd1",
   "metadata": {},
   "outputs": [],
   "source": [
    "import pandas as pd\n",
    "\n",
    "def predict_match(home_team, away_team, venue, season, ensemble, feature_data, X_train_columns):\n",
    "    \"\"\"\n",
    "    Predict outcome of a single AFL match.\n",
    "    \n",
    "    Parameters:\n",
    "        home_team (str): Home team name\n",
    "        away_team (str): Away team name\n",
    "        venue (str): Venue name\n",
    "        season (int): Year of match\n",
    "        ensemble (sklearn model): Trained VotingClassifier\n",
    "        feature_data (pd.DataFrame): Full dataset with all computed features\n",
    "        X_train_columns (list): Columns used to train the model\n",
    "    \"\"\"\n",
    "    # Build match dictionary\n",
    "    match_dict = {\n",
    "        \"Match_id\": 999999,  # placeholder, won't be used in training\n",
    "        \"Season\": season,\n",
    "        \"Home.Team\": home_team,\n",
    "        \"Away.Team\": away_team,\n",
    "        \"Venue\": venue\n",
    "    }\n",
    "    \n",
    "    # Convert to DataFrame\n",
    "    match_df = pd.DataFrame([match_dict])\n",
    "\n",
    "    # Use your existing feature pipeline\n",
    "    # (re-run add_all_features but filtering only for this row)\n",
    "    match_features = add_all_features(\n",
    "        pd.concat([feature_data, match_df], ignore_index=True),\n",
    "        stats=None,  # pass player stats if needed\n",
    "        years=[season]\n",
    "    ).query(\"Match_id == 999999\")\n",
    "\n",
    "    # Select features same as training\n",
    "    X_new = match_features[X_train_columns]\n",
    "\n",
    "    # Predict\n",
    "    predicted_class = ensemble.predict(X_new)[0]\n",
    "    predicted_proba = ensemble.predict_proba(X_new)[0]\n",
    "\n",
    "    # Build output DataFrame\n",
    "    result_df = match_features.copy()\n",
    "    result_df[\"PredictedWinner\"] = \"Home\" if predicted_class == 0 else \"Away\"\n",
    "    result_df[\"PredictedProb_HomeWin\"] = predicted_proba[0]\n",
    "    result_df[\"PredictedProb_AwayWin\"] = predicted_proba[1]\n",
    "\n",
    "    return result_df"
   ]
  },
  {
   "cell_type": "code",
   "execution_count": 22,
   "id": "4630f33e-17a6-4d11-a5d9-23a33903c00e",
   "metadata": {},
   "outputs": [
    {
     "ename": "NameError",
     "evalue": "name 'add_all_features' is not defined",
     "output_type": "error",
     "traceback": [
      "\u001b[1;31m---------------------------------------------------------------------------\u001b[0m",
      "\u001b[1;31mNameError\u001b[0m                                 Traceback (most recent call last)",
      "Cell \u001b[1;32mIn[22], line 1\u001b[0m\n\u001b[1;32m----> 1\u001b[0m result \u001b[38;5;241m=\u001b[39m predict_match(\n\u001b[0;32m      2\u001b[0m     home_team\u001b[38;5;241m=\u001b[39m\u001b[38;5;124m\"\u001b[39m\u001b[38;5;124mWestern Bulldogs\u001b[39m\u001b[38;5;124m\"\u001b[39m,\n\u001b[0;32m      3\u001b[0m     away_team\u001b[38;5;241m=\u001b[39m\u001b[38;5;124m\"\u001b[39m\u001b[38;5;124mGWS\u001b[39m\u001b[38;5;124m\"\u001b[39m,\n\u001b[0;32m      4\u001b[0m     venue\u001b[38;5;241m=\u001b[39m\u001b[38;5;124m\"\u001b[39m\u001b[38;5;124mMarvel Stadium\u001b[39m\u001b[38;5;124m\"\u001b[39m,\n\u001b[0;32m      5\u001b[0m     season\u001b[38;5;241m=\u001b[39m\u001b[38;5;241m2025\u001b[39m,\n\u001b[0;32m      6\u001b[0m     ensemble\u001b[38;5;241m=\u001b[39mensemble,\n\u001b[0;32m      7\u001b[0m     feature_data\u001b[38;5;241m=\u001b[39mdata,\n\u001b[0;32m      8\u001b[0m     X_train_columns\u001b[38;5;241m=\u001b[39mX_train\u001b[38;5;241m.\u001b[39mcolumns\n\u001b[0;32m      9\u001b[0m )\n\u001b[0;32m     11\u001b[0m \u001b[38;5;28mprint\u001b[39m(result[[\n\u001b[0;32m     12\u001b[0m     \u001b[38;5;124m\"\u001b[39m\u001b[38;5;124mHome.Team\u001b[39m\u001b[38;5;124m\"\u001b[39m, \u001b[38;5;124m\"\u001b[39m\u001b[38;5;124mAway.Team\u001b[39m\u001b[38;5;124m\"\u001b[39m, \u001b[38;5;124m\"\u001b[39m\u001b[38;5;124mPredictedWinner\u001b[39m\u001b[38;5;124m\"\u001b[39m,\n\u001b[0;32m     13\u001b[0m     \u001b[38;5;124m\"\u001b[39m\u001b[38;5;124mPredictedProb_HomeWin\u001b[39m\u001b[38;5;124m\"\u001b[39m, \u001b[38;5;124m\"\u001b[39m\u001b[38;5;124mPredictedProb_AwayWin\u001b[39m\u001b[38;5;124m\"\u001b[39m\n\u001b[0;32m     14\u001b[0m ]])\n",
      "Cell \u001b[1;32mIn[21], line 30\u001b[0m, in \u001b[0;36mpredict_match\u001b[1;34m(home_team, away_team, venue, season, ensemble, feature_data, X_train_columns)\u001b[0m\n\u001b[0;32m     26\u001b[0m match_df \u001b[38;5;241m=\u001b[39m pd\u001b[38;5;241m.\u001b[39mDataFrame([match_dict])\n\u001b[0;32m     28\u001b[0m \u001b[38;5;66;03m# Use your existing feature pipeline\u001b[39;00m\n\u001b[0;32m     29\u001b[0m \u001b[38;5;66;03m# (re-run add_all_features but filtering only for this row)\u001b[39;00m\n\u001b[1;32m---> 30\u001b[0m match_features \u001b[38;5;241m=\u001b[39m add_all_features(\n\u001b[0;32m     31\u001b[0m     pd\u001b[38;5;241m.\u001b[39mconcat([feature_data, match_df], ignore_index\u001b[38;5;241m=\u001b[39m\u001b[38;5;28;01mTrue\u001b[39;00m),\n\u001b[0;32m     32\u001b[0m     stats\u001b[38;5;241m=\u001b[39m\u001b[38;5;28;01mNone\u001b[39;00m,  \u001b[38;5;66;03m# pass player stats if needed\u001b[39;00m\n\u001b[0;32m     33\u001b[0m     years\u001b[38;5;241m=\u001b[39m[season]\n\u001b[0;32m     34\u001b[0m )\u001b[38;5;241m.\u001b[39mquery(\u001b[38;5;124m\"\u001b[39m\u001b[38;5;124mMatch_id == 999999\u001b[39m\u001b[38;5;124m\"\u001b[39m)\n\u001b[0;32m     36\u001b[0m \u001b[38;5;66;03m# Select features same as training\u001b[39;00m\n\u001b[0;32m     37\u001b[0m X_new \u001b[38;5;241m=\u001b[39m match_features[X_train_columns]\n",
      "\u001b[1;31mNameError\u001b[0m: name 'add_all_features' is not defined"
     ]
    }
   ],
   "source": [
    "result = predict_match(\n",
    "    home_team=\"Western Bulldogs\",\n",
    "    away_team=\"GWS\",\n",
    "    venue=\"Marvel Stadium\",\n",
    "    season=2025,\n",
    "    ensemble=ensemble,\n",
    "    feature_data=data,\n",
    "    X_train_columns=X_train.columns\n",
    ")\n",
    "\n",
    "print(result[[\n",
    "    \"Home.Team\", \"Away.Team\", \"PredictedWinner\",\n",
    "    \"PredictedProb_HomeWin\", \"PredictedProb_AwayWin\"\n",
    "]])"
   ]
  },
  {
   "cell_type": "code",
   "execution_count": null,
   "id": "0b8cc8a9-47ce-49d2-9431-db0fc2613846",
   "metadata": {},
   "outputs": [],
   "source": []
  }
 ],
 "metadata": {
  "kernelspec": {
   "display_name": "Python [conda env:base] *",
   "language": "python",
   "name": "conda-base-py"
  },
  "language_info": {
   "codemirror_mode": {
    "name": "ipython",
    "version": 3
   },
   "file_extension": ".py",
   "mimetype": "text/x-python",
   "name": "python",
   "nbconvert_exporter": "python",
   "pygments_lexer": "ipython3",
   "version": "3.13.5"
  }
 },
 "nbformat": 4,
 "nbformat_minor": 5
}
